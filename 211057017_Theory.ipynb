{
 "cells": [
  {
   "cell_type": "markdown",
   "metadata": {},
   "source": [
    "## Theory Assignment\n",
    "### Problem Statement: Create your own dataset of 10 rows of information(medical, student, inventory, store) apply all data preprocessing, data wrangling method. finally represent the data using suitable plots. Please make sure that everyone selects the unique dataset. Upload the python file, which consists description of every step, code, results"
   ]
  },
  {
   "cell_type": "markdown",
   "metadata": {},
   "source": [
    " #### Creating dataset by Scraping Amazon website for DSLR Camera with use of beautiful soup and visualising the data"
   ]
  },
  {
   "cell_type": "markdown",
   "metadata": {},
   "source": [
    "##### Importing the libraries"
   ]
  },
  {
   "cell_type": "code",
   "execution_count": 9,
   "metadata": {},
   "outputs": [],
   "source": [
    "from bs4 import BeautifulSoup\n",
    "import requests\n",
    "from fake_useragent import UserAgent\n",
    "import lxml\n",
    "import pandas as pd\n",
    "import numpy as np\n",
    "import matplotlib.pyplot as plt\n",
    "import seaborn as sns"
   ]
  },
  {
   "cell_type": "markdown",
   "metadata": {},
   "source": [
    "##### Creating csv file for storing the data"
   ]
  },
  {
   "cell_type": "code",
   "execution_count": 375,
   "metadata": {},
   "outputs": [
    {
     "data": {
      "text/plain": [
       "29"
      ]
     },
     "execution_count": 375,
     "metadata": {},
     "output_type": "execute_result"
    }
   ],
   "source": [
    "#creating csv file \n",
    "import csv\n",
    "csv_file = open('amazon_dslr.csv','w',encoding='UTF8')\n",
    "csv_writer = csv.writer(csv_file)\n",
    "csv_writer.writerow(['Names','Price', 'Ratings','Reviews'])"
   ]
  },
  {
   "cell_type": "markdown",
   "metadata": {},
   "source": [
    "##### Making a generalized function for scraping multiple pages with beautiful soup"
   ]
  },
  {
   "cell_type": "code",
   "execution_count": 377,
   "metadata": {},
   "outputs": [],
   "source": [
    "def amazon_scrape(URL):\n",
    "    ua = UserAgent()\n",
    "    header = {'user-agent':ua.chrome}\n",
    "    website = requests.get(URL,headers=header)\n",
    "\n",
    "    #creating soup\n",
    "    soup = BeautifulSoup(website.content,'lxml')\n",
    "\n",
    "    #creating for loop to iterate over whole page\n",
    "    for container in soup.find_all('div',class_=\"sg-col sg-col-4-of-12 sg-col-8-of-16 sg-col-12-of-20\"):\n",
    "        try:\n",
    "            #extracting the names of the camera\n",
    "            titles = container.find('span',class_=\"a-size-medium a-color-base a-text-normal\")\n",
    "            titles = titles.string\n",
    "        \n",
    "            #extracting the prices\n",
    "            prices = container.find('span',class_=\"a-price-whole\").text\n",
    "            prices = float(prices.replace(',',''))\n",
    "\n",
    "            #extracting the ratings\n",
    "            ratings = container.find('span',class_=\"a-icon-alt\")\n",
    "            ratings = ratings.text.split()[0]\n",
    "\n",
    "            #extracting number of reviews\n",
    "            reviews = container.find('span',class_=\"a-size-base\")\n",
    "            reviews = reviews.text.split()[0].replace(',','')\n",
    "            reviews = float(reviews)\n",
    "        \n",
    "        #except will activate when some data is missing and should not interrupt the iterations \n",
    "        except:\n",
    "            prices = np.nan\n",
    "            ratings = np.nan\n",
    "            reviews = np.nan\n",
    "        #writing to the file    \n",
    "        csv_writer.writerow([titles,prices,ratings,reviews]) "
   ]
  },
  {
   "cell_type": "code",
   "execution_count": 380,
   "metadata": {},
   "outputs": [],
   "source": [
    "#creating a list of URL's to iterate over 3 pages\n",
    "URLs = ['https://www.amazon.in/s?k=dslr&i=electronics&crid=3SHCJJ8MLP95R&sprefix=dsl%2Celectronics%2C338&ref=nb_sb_noss','https://www.amazon.in/s?k=dslr&i=electronics&page=2&crid=3SHCJJ8MLP95R&qid=1643133655&sprefix=dsl%2Celectronics%2C338&ref=sr_pg_2','https://www.amazon.in/s?k=dslr&i=electronics&page=3&crid=3SHCJJ8MLP95R&qid=1643136674&sprefix=dsl%2Celectronics%2C338&ref=sr_pg_3']\n",
    "\n",
    "#Calling the function with the collected URLs\n",
    "for URL in URLs:\n",
    "    amazon_scrape(URL)"
   ]
  },
  {
   "cell_type": "code",
   "execution_count": 381,
   "metadata": {},
   "outputs": [],
   "source": [
    "#closing the csv file\n",
    "csv_file.close()"
   ]
  },
  {
   "cell_type": "markdown",
   "metadata": {},
   "source": [
    "#### Reading and Processing the Data"
   ]
  },
  {
   "cell_type": "code",
   "execution_count": 3,
   "metadata": {},
   "outputs": [
    {
     "data": {
      "text/html": [
       "<div>\n",
       "<style scoped>\n",
       "    .dataframe tbody tr th:only-of-type {\n",
       "        vertical-align: middle;\n",
       "    }\n",
       "\n",
       "    .dataframe tbody tr th {\n",
       "        vertical-align: top;\n",
       "    }\n",
       "\n",
       "    .dataframe thead th {\n",
       "        text-align: right;\n",
       "    }\n",
       "</style>\n",
       "<table border=\"1\" class=\"dataframe\">\n",
       "  <thead>\n",
       "    <tr style=\"text-align: right;\">\n",
       "      <th></th>\n",
       "      <th>Names</th>\n",
       "      <th>Price</th>\n",
       "      <th>Ratings</th>\n",
       "      <th>Reviews</th>\n",
       "    </tr>\n",
       "  </thead>\n",
       "  <tbody>\n",
       "    <tr>\n",
       "      <th>0</th>\n",
       "      <td>Canon EOS 1500D 24.1 Digital SLR Camera (Black...</td>\n",
       "      <td>36999.0</td>\n",
       "      <td>4.4</td>\n",
       "      <td>9590.0</td>\n",
       "    </tr>\n",
       "    <tr>\n",
       "      <th>1</th>\n",
       "      <td>(Renewed) Canon EOS 1500D Digital SLR Camera (...</td>\n",
       "      <td>29800.0</td>\n",
       "      <td>3.7</td>\n",
       "      <td>53.0</td>\n",
       "    </tr>\n",
       "    <tr>\n",
       "      <th>2</th>\n",
       "      <td>Canon EOS 80D 24.2MP Digital SLR Camera (Black...</td>\n",
       "      <td>111990.0</td>\n",
       "      <td>4.4</td>\n",
       "      <td>1256.0</td>\n",
       "    </tr>\n",
       "    <tr>\n",
       "      <th>3</th>\n",
       "      <td>Nikon D7500 20.9MP Digital SLR Camera (Black) ...</td>\n",
       "      <td>94950.0</td>\n",
       "      <td>4.4</td>\n",
       "      <td>284.0</td>\n",
       "    </tr>\n",
       "    <tr>\n",
       "      <th>4</th>\n",
       "      <td>Canon EOS 3000D 18MP Digital SLR Camera (Black...</td>\n",
       "      <td>NaN</td>\n",
       "      <td>NaN</td>\n",
       "      <td>NaN</td>\n",
       "    </tr>\n",
       "    <tr>\n",
       "      <th>...</th>\n",
       "      <td>...</td>\n",
       "      <td>...</td>\n",
       "      <td>...</td>\n",
       "      <td>...</td>\n",
       "    </tr>\n",
       "    <tr>\n",
       "      <th>67</th>\n",
       "      <td>Canon EOS 5D Mark IV 30.4 MP Digital SLR Camer...</td>\n",
       "      <td>349485.0</td>\n",
       "      <td>4.5</td>\n",
       "      <td>104.0</td>\n",
       "    </tr>\n",
       "    <tr>\n",
       "      <th>68</th>\n",
       "      <td>Hanumex® 58MM Reversible Flower Lens Hood for ...</td>\n",
       "      <td>149.0</td>\n",
       "      <td>3.7</td>\n",
       "      <td>281.0</td>\n",
       "    </tr>\n",
       "    <tr>\n",
       "      <th>69</th>\n",
       "      <td>Fujifilm X-A7 24.2 MP Mirrorless Camera with X...</td>\n",
       "      <td>56999.0</td>\n",
       "      <td>4.1</td>\n",
       "      <td>74.0</td>\n",
       "    </tr>\n",
       "    <tr>\n",
       "      <th>70</th>\n",
       "      <td>SHOPEE 58mm Reversible Flower Lens Hood for Ca...</td>\n",
       "      <td>175.0</td>\n",
       "      <td>3.7</td>\n",
       "      <td>2978.0</td>\n",
       "    </tr>\n",
       "    <tr>\n",
       "      <th>71</th>\n",
       "      <td>Canon Digital Camera EOS R6 Body</td>\n",
       "      <td>214990.0</td>\n",
       "      <td>4.4</td>\n",
       "      <td>12.0</td>\n",
       "    </tr>\n",
       "  </tbody>\n",
       "</table>\n",
       "<p>72 rows × 4 columns</p>\n",
       "</div>"
      ],
      "text/plain": [
       "                                                Names     Price  Ratings  \\\n",
       "0   Canon EOS 1500D 24.1 Digital SLR Camera (Black...   36999.0      4.4   \n",
       "1   (Renewed) Canon EOS 1500D Digital SLR Camera (...   29800.0      3.7   \n",
       "2   Canon EOS 80D 24.2MP Digital SLR Camera (Black...  111990.0      4.4   \n",
       "3   Nikon D7500 20.9MP Digital SLR Camera (Black) ...   94950.0      4.4   \n",
       "4   Canon EOS 3000D 18MP Digital SLR Camera (Black...       NaN      NaN   \n",
       "..                                                ...       ...      ...   \n",
       "67  Canon EOS 5D Mark IV 30.4 MP Digital SLR Camer...  349485.0      4.5   \n",
       "68  Hanumex® 58MM Reversible Flower Lens Hood for ...     149.0      3.7   \n",
       "69  Fujifilm X-A7 24.2 MP Mirrorless Camera with X...   56999.0      4.1   \n",
       "70  SHOPEE 58mm Reversible Flower Lens Hood for Ca...     175.0      3.7   \n",
       "71                   Canon Digital Camera EOS R6 Body  214990.0      4.4   \n",
       "\n",
       "    Reviews  \n",
       "0    9590.0  \n",
       "1      53.0  \n",
       "2    1256.0  \n",
       "3     284.0  \n",
       "4       NaN  \n",
       "..      ...  \n",
       "67    104.0  \n",
       "68    281.0  \n",
       "69     74.0  \n",
       "70   2978.0  \n",
       "71     12.0  \n",
       "\n",
       "[72 rows x 4 columns]"
      ]
     },
     "execution_count": 3,
     "metadata": {},
     "output_type": "execute_result"
    }
   ],
   "source": [
    "df = pd.read_csv('amazon_dslr.csv')\n",
    "df"
   ]
  },
  {
   "cell_type": "code",
   "execution_count": 5,
   "metadata": {},
   "outputs": [
    {
     "data": {
      "text/plain": [
       "Names      0\n",
       "Price      7\n",
       "Ratings    7\n",
       "Reviews    7\n",
       "dtype: int64"
      ]
     },
     "execution_count": 5,
     "metadata": {},
     "output_type": "execute_result"
    }
   ],
   "source": [
    "#Checking for nan values in dataset\n",
    "df.isna().sum()"
   ]
  },
  {
   "cell_type": "code",
   "execution_count": 6,
   "metadata": {},
   "outputs": [
    {
     "data": {
      "text/html": [
       "<div>\n",
       "<style scoped>\n",
       "    .dataframe tbody tr th:only-of-type {\n",
       "        vertical-align: middle;\n",
       "    }\n",
       "\n",
       "    .dataframe tbody tr th {\n",
       "        vertical-align: top;\n",
       "    }\n",
       "\n",
       "    .dataframe thead th {\n",
       "        text-align: right;\n",
       "    }\n",
       "</style>\n",
       "<table border=\"1\" class=\"dataframe\">\n",
       "  <thead>\n",
       "    <tr style=\"text-align: right;\">\n",
       "      <th></th>\n",
       "      <th>Names</th>\n",
       "      <th>Price</th>\n",
       "      <th>Ratings</th>\n",
       "      <th>Reviews</th>\n",
       "    </tr>\n",
       "  </thead>\n",
       "  <tbody>\n",
       "    <tr>\n",
       "      <th>0</th>\n",
       "      <td>Canon EOS 1500D 24.1 Digital SLR Camera (Black...</td>\n",
       "      <td>36999.0</td>\n",
       "      <td>4.4</td>\n",
       "      <td>9590.0</td>\n",
       "    </tr>\n",
       "    <tr>\n",
       "      <th>1</th>\n",
       "      <td>(Renewed) Canon EOS 1500D Digital SLR Camera (...</td>\n",
       "      <td>29800.0</td>\n",
       "      <td>3.7</td>\n",
       "      <td>53.0</td>\n",
       "    </tr>\n",
       "    <tr>\n",
       "      <th>2</th>\n",
       "      <td>Canon EOS 80D 24.2MP Digital SLR Camera (Black...</td>\n",
       "      <td>111990.0</td>\n",
       "      <td>4.4</td>\n",
       "      <td>1256.0</td>\n",
       "    </tr>\n",
       "    <tr>\n",
       "      <th>3</th>\n",
       "      <td>Nikon D7500 20.9MP Digital SLR Camera (Black) ...</td>\n",
       "      <td>94950.0</td>\n",
       "      <td>4.4</td>\n",
       "      <td>284.0</td>\n",
       "    </tr>\n",
       "    <tr>\n",
       "      <th>5</th>\n",
       "      <td>(Renewed) Canon EOS 3000D 18MP Digital SLR Cam...</td>\n",
       "      <td>25500.0</td>\n",
       "      <td>3.7</td>\n",
       "      <td>8.0</td>\n",
       "    </tr>\n",
       "    <tr>\n",
       "      <th>...</th>\n",
       "      <td>...</td>\n",
       "      <td>...</td>\n",
       "      <td>...</td>\n",
       "      <td>...</td>\n",
       "    </tr>\n",
       "    <tr>\n",
       "      <th>67</th>\n",
       "      <td>Canon EOS 5D Mark IV 30.4 MP Digital SLR Camer...</td>\n",
       "      <td>349485.0</td>\n",
       "      <td>4.5</td>\n",
       "      <td>104.0</td>\n",
       "    </tr>\n",
       "    <tr>\n",
       "      <th>68</th>\n",
       "      <td>Hanumex® 58MM Reversible Flower Lens Hood for ...</td>\n",
       "      <td>149.0</td>\n",
       "      <td>3.7</td>\n",
       "      <td>281.0</td>\n",
       "    </tr>\n",
       "    <tr>\n",
       "      <th>69</th>\n",
       "      <td>Fujifilm X-A7 24.2 MP Mirrorless Camera with X...</td>\n",
       "      <td>56999.0</td>\n",
       "      <td>4.1</td>\n",
       "      <td>74.0</td>\n",
       "    </tr>\n",
       "    <tr>\n",
       "      <th>70</th>\n",
       "      <td>SHOPEE 58mm Reversible Flower Lens Hood for Ca...</td>\n",
       "      <td>175.0</td>\n",
       "      <td>3.7</td>\n",
       "      <td>2978.0</td>\n",
       "    </tr>\n",
       "    <tr>\n",
       "      <th>71</th>\n",
       "      <td>Canon Digital Camera EOS R6 Body</td>\n",
       "      <td>214990.0</td>\n",
       "      <td>4.4</td>\n",
       "      <td>12.0</td>\n",
       "    </tr>\n",
       "  </tbody>\n",
       "</table>\n",
       "<p>65 rows × 4 columns</p>\n",
       "</div>"
      ],
      "text/plain": [
       "                                                Names     Price  Ratings  \\\n",
       "0   Canon EOS 1500D 24.1 Digital SLR Camera (Black...   36999.0      4.4   \n",
       "1   (Renewed) Canon EOS 1500D Digital SLR Camera (...   29800.0      3.7   \n",
       "2   Canon EOS 80D 24.2MP Digital SLR Camera (Black...  111990.0      4.4   \n",
       "3   Nikon D7500 20.9MP Digital SLR Camera (Black) ...   94950.0      4.4   \n",
       "5   (Renewed) Canon EOS 3000D 18MP Digital SLR Cam...   25500.0      3.7   \n",
       "..                                                ...       ...      ...   \n",
       "67  Canon EOS 5D Mark IV 30.4 MP Digital SLR Camer...  349485.0      4.5   \n",
       "68  Hanumex® 58MM Reversible Flower Lens Hood for ...     149.0      3.7   \n",
       "69  Fujifilm X-A7 24.2 MP Mirrorless Camera with X...   56999.0      4.1   \n",
       "70  SHOPEE 58mm Reversible Flower Lens Hood for Ca...     175.0      3.7   \n",
       "71                   Canon Digital Camera EOS R6 Body  214990.0      4.4   \n",
       "\n",
       "    Reviews  \n",
       "0    9590.0  \n",
       "1      53.0  \n",
       "2    1256.0  \n",
       "3     284.0  \n",
       "5       8.0  \n",
       "..      ...  \n",
       "67    104.0  \n",
       "68    281.0  \n",
       "69     74.0  \n",
       "70   2978.0  \n",
       "71     12.0  \n",
       "\n",
       "[65 rows x 4 columns]"
      ]
     },
     "execution_count": 6,
     "metadata": {},
     "output_type": "execute_result"
    }
   ],
   "source": [
    "#Dropping the rows with any null values \n",
    "df = df.dropna(axis=0,how='any')\n",
    "df"
   ]
  },
  {
   "cell_type": "code",
   "execution_count": 8,
   "metadata": {},
   "outputs": [
    {
     "data": {
      "text/plain": [
       "(59, 4)"
      ]
     },
     "execution_count": 8,
     "metadata": {},
     "output_type": "execute_result"
    }
   ],
   "source": [
    "#dropping any duplicates calues\n",
    "df = df.drop_duplicates()\n",
    "df.shape"
   ]
  },
  {
   "cell_type": "code",
   "execution_count": 10,
   "metadata": {},
   "outputs": [],
   "source": [
    "#converting each column in dataframe to numeric values\n",
    "df['Price'] = pd.to_numeric(df['Price'])\n",
    "df['Ratings'] = pd.to_numeric(df['Ratings'])\n",
    "df['Reviews'] = pd.to_numeric(df['Reviews'])"
   ]
  },
  {
   "cell_type": "code",
   "execution_count": 13,
   "metadata": {},
   "outputs": [
    {
     "data": {
      "text/html": [
       "<div>\n",
       "<style scoped>\n",
       "    .dataframe tbody tr th:only-of-type {\n",
       "        vertical-align: middle;\n",
       "    }\n",
       "\n",
       "    .dataframe tbody tr th {\n",
       "        vertical-align: top;\n",
       "    }\n",
       "\n",
       "    .dataframe thead th {\n",
       "        text-align: right;\n",
       "    }\n",
       "</style>\n",
       "<table border=\"1\" class=\"dataframe\">\n",
       "  <thead>\n",
       "    <tr style=\"text-align: right;\">\n",
       "      <th></th>\n",
       "      <th>Names</th>\n",
       "      <th>Price</th>\n",
       "      <th>Ratings</th>\n",
       "      <th>Reviews</th>\n",
       "    </tr>\n",
       "  </thead>\n",
       "  <tbody>\n",
       "    <tr>\n",
       "      <th>0</th>\n",
       "      <td>Canon EOS 1500D 24.1 Digital SLR Camera (Black...</td>\n",
       "      <td>36999.0</td>\n",
       "      <td>4.4</td>\n",
       "      <td>9590.0</td>\n",
       "    </tr>\n",
       "    <tr>\n",
       "      <th>1</th>\n",
       "      <td>(Renewed) Canon EOS 1500D Digital SLR Camera (...</td>\n",
       "      <td>29800.0</td>\n",
       "      <td>3.7</td>\n",
       "      <td>53.0</td>\n",
       "    </tr>\n",
       "    <tr>\n",
       "      <th>2</th>\n",
       "      <td>Canon EOS 80D 24.2MP Digital SLR Camera (Black...</td>\n",
       "      <td>111990.0</td>\n",
       "      <td>4.4</td>\n",
       "      <td>1256.0</td>\n",
       "    </tr>\n",
       "    <tr>\n",
       "      <th>3</th>\n",
       "      <td>Nikon D7500 20.9MP Digital SLR Camera (Black) ...</td>\n",
       "      <td>94950.0</td>\n",
       "      <td>4.4</td>\n",
       "      <td>284.0</td>\n",
       "    </tr>\n",
       "    <tr>\n",
       "      <th>5</th>\n",
       "      <td>(Renewed) Canon EOS 3000D 18MP Digital SLR Cam...</td>\n",
       "      <td>25500.0</td>\n",
       "      <td>3.7</td>\n",
       "      <td>8.0</td>\n",
       "    </tr>\n",
       "    <tr>\n",
       "      <th>6</th>\n",
       "      <td>Canon EOS 200D II 24.1MP Digital SLR Camera + ...</td>\n",
       "      <td>56990.0</td>\n",
       "      <td>4.5</td>\n",
       "      <td>1073.0</td>\n",
       "    </tr>\n",
       "    <tr>\n",
       "      <th>7</th>\n",
       "      <td>Sony DSC W830 Cyber-Shot 20.1 MP Point and Sho...</td>\n",
       "      <td>11490.0</td>\n",
       "      <td>3.8</td>\n",
       "      <td>2486.0</td>\n",
       "    </tr>\n",
       "    <tr>\n",
       "      <th>8</th>\n",
       "      <td>Nikon D850 45.7MP Digital SLR Camera (Black) w...</td>\n",
       "      <td>276012.0</td>\n",
       "      <td>3.9</td>\n",
       "      <td>9.0</td>\n",
       "    </tr>\n",
       "    <tr>\n",
       "      <th>9</th>\n",
       "      <td>Canon EOS 5D Mark IV 30.4 MP Digital SLR Camer...</td>\n",
       "      <td>349485.0</td>\n",
       "      <td>4.5</td>\n",
       "      <td>104.0</td>\n",
       "    </tr>\n",
       "    <tr>\n",
       "      <th>10</th>\n",
       "      <td>Nikon D5600 with AF-P 18-55 mm + AF-P 70-300 m...</td>\n",
       "      <td>66749.0</td>\n",
       "      <td>4.5</td>\n",
       "      <td>1824.0</td>\n",
       "    </tr>\n",
       "    <tr>\n",
       "      <th>11</th>\n",
       "      <td>Sony Alpha ILCE-6400M 24.2MP Mirrorless Digita...</td>\n",
       "      <td>108977.0</td>\n",
       "      <td>4.6</td>\n",
       "      <td>150.0</td>\n",
       "    </tr>\n",
       "    <tr>\n",
       "      <th>12</th>\n",
       "      <td>Canon EOS 90D Digital SLR Camera with 18-135 i...</td>\n",
       "      <td>124990.0</td>\n",
       "      <td>4.5</td>\n",
       "      <td>73.0</td>\n",
       "    </tr>\n",
       "    <tr>\n",
       "      <th>13</th>\n",
       "      <td>Canon EOS 200D II 24.1MP Digital SLR Camera + ...</td>\n",
       "      <td>58139.0</td>\n",
       "      <td>4.5</td>\n",
       "      <td>1073.0</td>\n",
       "    </tr>\n",
       "    <tr>\n",
       "      <th>14</th>\n",
       "      <td>Nikon Z50 Mirrorless Camera Body with Z DX 16-...</td>\n",
       "      <td>81490.0</td>\n",
       "      <td>4.0</td>\n",
       "      <td>30.0</td>\n",
       "    </tr>\n",
       "    <tr>\n",
       "      <th>16</th>\n",
       "      <td>Canon EOS 5D Mark IV 30.4 MP Digital SLR Camer...</td>\n",
       "      <td>286495.0</td>\n",
       "      <td>4.5</td>\n",
       "      <td>104.0</td>\n",
       "    </tr>\n",
       "    <tr>\n",
       "      <th>19</th>\n",
       "      <td>Panasonic LUMIX G7 16.00 MP 4K Mirrorless Inte...</td>\n",
       "      <td>39990.0</td>\n",
       "      <td>4.3</td>\n",
       "      <td>396.0</td>\n",
       "    </tr>\n",
       "    <tr>\n",
       "      <th>20</th>\n",
       "      <td>Canon Digital Camera EOS R5 Body</td>\n",
       "      <td>339995.0</td>\n",
       "      <td>2.7</td>\n",
       "      <td>5.0</td>\n",
       "    </tr>\n",
       "    <tr>\n",
       "      <th>22</th>\n",
       "      <td>Nikon Digital Camera Z 5 Kit with NIKKOR Z 24-...</td>\n",
       "      <td>149990.0</td>\n",
       "      <td>4.8</td>\n",
       "      <td>4.0</td>\n",
       "    </tr>\n",
       "    <tr>\n",
       "      <th>23</th>\n",
       "      <td>Canon EOS 90D Digital SLR Camera with 18-135 i...</td>\n",
       "      <td>127739.0</td>\n",
       "      <td>4.5</td>\n",
       "      <td>73.0</td>\n",
       "    </tr>\n",
       "    <tr>\n",
       "      <th>36</th>\n",
       "      <td>Canon EOS 5D Mark IV 30.4 MP Digital SLR Camer...</td>\n",
       "      <td>297494.0</td>\n",
       "      <td>4.5</td>\n",
       "      <td>104.0</td>\n",
       "    </tr>\n",
       "    <tr>\n",
       "      <th>37</th>\n",
       "      <td>Nikon Z50 Mirroless Camera Body with NIKKOR Z ...</td>\n",
       "      <td>97499.0</td>\n",
       "      <td>4.4</td>\n",
       "      <td>48.0</td>\n",
       "    </tr>\n",
       "    <tr>\n",
       "      <th>38</th>\n",
       "      <td>Sony Cybershot DSC-WX500/B 18.2MP Digital Came...</td>\n",
       "      <td>22890.0</td>\n",
       "      <td>4.2</td>\n",
       "      <td>228.0</td>\n",
       "    </tr>\n",
       "    <tr>\n",
       "      <th>41</th>\n",
       "      <td>Sony Alpha ILCE-7M3 Full-Frame 24.2MP Mirrorle...</td>\n",
       "      <td>148739.0</td>\n",
       "      <td>5.0</td>\n",
       "      <td>1.0</td>\n",
       "    </tr>\n",
       "    <tr>\n",
       "      <th>44</th>\n",
       "      <td>Nikon D780 DSLR Body with 24-120mm VR Lens</td>\n",
       "      <td>204000.0</td>\n",
       "      <td>5.0</td>\n",
       "      <td>3.0</td>\n",
       "    </tr>\n",
       "    <tr>\n",
       "      <th>45</th>\n",
       "      <td>Sony Digital Vlog Camera ZV-1 Only (Compact, V...</td>\n",
       "      <td>59999.0</td>\n",
       "      <td>4.5</td>\n",
       "      <td>411.0</td>\n",
       "    </tr>\n",
       "    <tr>\n",
       "      <th>47</th>\n",
       "      <td>Canon EOS 1500D 24.1 Digital SLR Camera (Black...</td>\n",
       "      <td>43998.0</td>\n",
       "      <td>4.4</td>\n",
       "      <td>9590.0</td>\n",
       "    </tr>\n",
       "    <tr>\n",
       "      <th>49</th>\n",
       "      <td>Nikon D780 DSLR Body Only</td>\n",
       "      <td>154990.0</td>\n",
       "      <td>4.5</td>\n",
       "      <td>2.0</td>\n",
       "    </tr>\n",
       "    <tr>\n",
       "      <th>51</th>\n",
       "      <td>Fujifilm X-T200 24.2 MP Mirrorless Camera with...</td>\n",
       "      <td>60999.0</td>\n",
       "      <td>4.4</td>\n",
       "      <td>361.0</td>\n",
       "    </tr>\n",
       "    <tr>\n",
       "      <th>57</th>\n",
       "      <td>Canon Digital Camera RP Body</td>\n",
       "      <td>89703.0</td>\n",
       "      <td>4.2</td>\n",
       "      <td>22.0</td>\n",
       "    </tr>\n",
       "    <tr>\n",
       "      <th>58</th>\n",
       "      <td>Canon EOS 5D Mark IV 30.4 MP Digital SLR Camer...</td>\n",
       "      <td>360485.0</td>\n",
       "      <td>4.5</td>\n",
       "      <td>104.0</td>\n",
       "    </tr>\n",
       "    <tr>\n",
       "      <th>60</th>\n",
       "      <td>Nikon Digital Camera Z 5 kit with NIKKOR Z 24-...</td>\n",
       "      <td>132029.0</td>\n",
       "      <td>5.0</td>\n",
       "      <td>9.0</td>\n",
       "    </tr>\n",
       "    <tr>\n",
       "      <th>64</th>\n",
       "      <td>Olympus OMD-EM-5-Mark-III Mirrorless Digital C...</td>\n",
       "      <td>148425.0</td>\n",
       "      <td>4.6</td>\n",
       "      <td>23.0</td>\n",
       "    </tr>\n",
       "    <tr>\n",
       "      <th>66</th>\n",
       "      <td>Fujifilm X-T200 24.2 MP Mirrorless Camera with...</td>\n",
       "      <td>58999.0</td>\n",
       "      <td>4.4</td>\n",
       "      <td>361.0</td>\n",
       "    </tr>\n",
       "    <tr>\n",
       "      <th>69</th>\n",
       "      <td>Fujifilm X-A7 24.2 MP Mirrorless Camera with X...</td>\n",
       "      <td>56999.0</td>\n",
       "      <td>4.1</td>\n",
       "      <td>74.0</td>\n",
       "    </tr>\n",
       "    <tr>\n",
       "      <th>71</th>\n",
       "      <td>Canon Digital Camera EOS R6 Body</td>\n",
       "      <td>214990.0</td>\n",
       "      <td>4.4</td>\n",
       "      <td>12.0</td>\n",
       "    </tr>\n",
       "  </tbody>\n",
       "</table>\n",
       "</div>"
      ],
      "text/plain": [
       "                                                Names     Price  Ratings  \\\n",
       "0   Canon EOS 1500D 24.1 Digital SLR Camera (Black...   36999.0      4.4   \n",
       "1   (Renewed) Canon EOS 1500D Digital SLR Camera (...   29800.0      3.7   \n",
       "2   Canon EOS 80D 24.2MP Digital SLR Camera (Black...  111990.0      4.4   \n",
       "3   Nikon D7500 20.9MP Digital SLR Camera (Black) ...   94950.0      4.4   \n",
       "5   (Renewed) Canon EOS 3000D 18MP Digital SLR Cam...   25500.0      3.7   \n",
       "6   Canon EOS 200D II 24.1MP Digital SLR Camera + ...   56990.0      4.5   \n",
       "7   Sony DSC W830 Cyber-Shot 20.1 MP Point and Sho...   11490.0      3.8   \n",
       "8   Nikon D850 45.7MP Digital SLR Camera (Black) w...  276012.0      3.9   \n",
       "9   Canon EOS 5D Mark IV 30.4 MP Digital SLR Camer...  349485.0      4.5   \n",
       "10  Nikon D5600 with AF-P 18-55 mm + AF-P 70-300 m...   66749.0      4.5   \n",
       "11  Sony Alpha ILCE-6400M 24.2MP Mirrorless Digita...  108977.0      4.6   \n",
       "12  Canon EOS 90D Digital SLR Camera with 18-135 i...  124990.0      4.5   \n",
       "13  Canon EOS 200D II 24.1MP Digital SLR Camera + ...   58139.0      4.5   \n",
       "14  Nikon Z50 Mirrorless Camera Body with Z DX 16-...   81490.0      4.0   \n",
       "16  Canon EOS 5D Mark IV 30.4 MP Digital SLR Camer...  286495.0      4.5   \n",
       "19  Panasonic LUMIX G7 16.00 MP 4K Mirrorless Inte...   39990.0      4.3   \n",
       "20                   Canon Digital Camera EOS R5 Body  339995.0      2.7   \n",
       "22  Nikon Digital Camera Z 5 Kit with NIKKOR Z 24-...  149990.0      4.8   \n",
       "23  Canon EOS 90D Digital SLR Camera with 18-135 i...  127739.0      4.5   \n",
       "36  Canon EOS 5D Mark IV 30.4 MP Digital SLR Camer...  297494.0      4.5   \n",
       "37  Nikon Z50 Mirroless Camera Body with NIKKOR Z ...   97499.0      4.4   \n",
       "38  Sony Cybershot DSC-WX500/B 18.2MP Digital Came...   22890.0      4.2   \n",
       "41  Sony Alpha ILCE-7M3 Full-Frame 24.2MP Mirrorle...  148739.0      5.0   \n",
       "44         Nikon D780 DSLR Body with 24-120mm VR Lens  204000.0      5.0   \n",
       "45  Sony Digital Vlog Camera ZV-1 Only (Compact, V...   59999.0      4.5   \n",
       "47  Canon EOS 1500D 24.1 Digital SLR Camera (Black...   43998.0      4.4   \n",
       "49                          Nikon D780 DSLR Body Only  154990.0      4.5   \n",
       "51  Fujifilm X-T200 24.2 MP Mirrorless Camera with...   60999.0      4.4   \n",
       "57                       Canon Digital Camera RP Body   89703.0      4.2   \n",
       "58  Canon EOS 5D Mark IV 30.4 MP Digital SLR Camer...  360485.0      4.5   \n",
       "60  Nikon Digital Camera Z 5 kit with NIKKOR Z 24-...  132029.0      5.0   \n",
       "64  Olympus OMD-EM-5-Mark-III Mirrorless Digital C...  148425.0      4.6   \n",
       "66  Fujifilm X-T200 24.2 MP Mirrorless Camera with...   58999.0      4.4   \n",
       "69  Fujifilm X-A7 24.2 MP Mirrorless Camera with X...   56999.0      4.1   \n",
       "71                   Canon Digital Camera EOS R6 Body  214990.0      4.4   \n",
       "\n",
       "    Reviews  \n",
       "0    9590.0  \n",
       "1      53.0  \n",
       "2    1256.0  \n",
       "3     284.0  \n",
       "5       8.0  \n",
       "6    1073.0  \n",
       "7    2486.0  \n",
       "8       9.0  \n",
       "9     104.0  \n",
       "10   1824.0  \n",
       "11    150.0  \n",
       "12     73.0  \n",
       "13   1073.0  \n",
       "14     30.0  \n",
       "16    104.0  \n",
       "19    396.0  \n",
       "20      5.0  \n",
       "22      4.0  \n",
       "23     73.0  \n",
       "36    104.0  \n",
       "37     48.0  \n",
       "38    228.0  \n",
       "41      1.0  \n",
       "44      3.0  \n",
       "45    411.0  \n",
       "47   9590.0  \n",
       "49      2.0  \n",
       "51    361.0  \n",
       "57     22.0  \n",
       "58    104.0  \n",
       "60      9.0  \n",
       "64     23.0  \n",
       "66    361.0  \n",
       "69     74.0  \n",
       "71     12.0  "
      ]
     },
     "execution_count": 13,
     "metadata": {},
     "output_type": "execute_result"
    }
   ],
   "source": [
    "#Dropping the price which are less than 5k as it would include the accessories which we dont want \n",
    "df = df['Price'] = df['Price'].apply(lambda x: np.nan if x < 5000 else x)\n",
    "df.dropna(axis = 0,how='any')"
   ]
  },
  {
   "cell_type": "markdown",
   "metadata": {},
   "source": [
    "#### Visualizing the data"
   ]
  },
  {
   "cell_type": "code",
   "execution_count": 65,
   "metadata": {},
   "outputs": [
    {
     "data": {
      "image/png": "[encoded data removed]",
      "text/plain": [
       "<Figure size 432x288 with 1 Axes>"
      ]
     },
     "metadata": {
      "needs_background": "light"
     },
     "output_type": "display_data"
    },
    {
     "data": {
      "text/plain": [
       "<Figure size 576x1080 with 0 Axes>"
      ]
     },
     "metadata": {},
     "output_type": "display_data"
    }
   ],
   "source": [
    "#plotting line graph of Ratings and Price\n",
    "sns.lineplot(x=df['Ratings'],y=df['Price'])\n",
    "plt.title(\"Change of Ratings with Price\")\n",
    "plt.figure(figsize = (8,15))\n",
    "plt.show()"
   ]
  },
  {
   "cell_type": "code",
   "execution_count": 69,
   "metadata": {},
   "outputs": [
    {
     "data": {
      "image/png": "[encoded data removed]",
      "text/plain": [
       "<Figure size 432x288 with 1 Axes>"
      ]
     },
     "metadata": {
      "needs_background": "light"
     },
     "output_type": "display_data"
    },
    {
     "data": {
      "text/plain": [
       "<Figure size 576x1080 with 0 Axes>"
      ]
     },
     "metadata": {},
     "output_type": "display_data"
    }
   ],
   "source": [
    "#plotting the ratings and price in simple plot\n",
    "plt.scatter(df['Ratings'],df['Reviews'])\n",
    "plt.title(\"Frequency of good ratings\")\n",
    "plt.figure(figsize = (8,15))\n",
    "plt.show()"
   ]
  },
  {
   "cell_type": "code",
   "execution_count": 71,
   "metadata": {},
   "outputs": [
    {
     "data": {
      "image/png": "[encoded data removed]",
      "text/plain": [
       "<Figure size 432x288 with 1 Axes>"
      ]
     },
     "metadata": {
      "needs_background": "light"
     },
     "output_type": "display_data"
    },
    {
     "data": {
      "text/plain": [
       "<Figure size 576x1080 with 0 Axes>"
      ]
     },
     "metadata": {},
     "output_type": "display_data"
    }
   ],
   "source": [
    "#plotting the price and reviews with point plot\n",
    "sns.pointplot(x= df['Ratings'],y =df['Reviews'],ci =None)\n",
    "plt.figure(figsize = (8,15))\n",
    "plt.show()"
   ]
  },
  {
   "cell_type": "code",
   "execution_count": 66,
   "metadata": {},
   "outputs": [
    {
     "data": {
      "image/png": "[encoded data removed]",
      "text/plain": [
       "<Figure size 432x288 with 1 Axes>"
      ]
     },
     "metadata": {
      "needs_background": "light"
     },
     "output_type": "display_data"
    },
    {
     "data": {
      "text/plain": [
       "<Figure size 504x1080 with 0 Axes>"
      ]
     },
     "metadata": {},
     "output_type": "display_data"
    }
   ],
   "source": [
    "#plotting ratings and Reviews with bar graph\n",
    "plt.bar(df['Ratings'],df['Reviews'])\n",
    "plt.title(\"Frequency of user ratings\")\n",
    "plt.xlabel('Ratings')\n",
    "plt.ylabel('Reviews')\n",
    "plt.figure(figsize = (7,15))\n",
    "plt.show()"
   ]
  },
  {
   "cell_type": "code",
   "execution_count": 46,
   "metadata": {},
   "outputs": [
    {
     "data": {
      "image/png": "[encoded data removed]",
      "text/plain": [
       "<Figure size 432x288 with 1 Axes>"
      ]
     },
     "metadata": {
      "needs_background": "light"
     },
     "output_type": "display_data"
    },
    {
     "data": {
      "text/plain": [
       "<Figure size 504x1080 with 0 Axes>"
      ]
     },
     "metadata": {},
     "output_type": "display_data"
    }
   ],
   "source": [
    "#plotting histogram of price\n",
    "plt.hist(df.Price,rwidth = 0.7)\n",
    "plt.title(\"Price Frequency Histogram\")\n",
    "plt.figure(figsize = (7,15))\n",
    "plt.show()"
   ]
  },
  {
   "cell_type": "code",
   "execution_count": 47,
   "metadata": {},
   "outputs": [
    {
     "data": {
      "image/png": "[encoded data removed]",
      "text/plain": [
       "<Figure size 432x288 with 1 Axes>"
      ]
     },
     "metadata": {
      "needs_background": "light"
     },
     "output_type": "display_data"
    },
    {
     "data": {
      "text/plain": [
       "<Figure size 504x1080 with 0 Axes>"
      ]
     },
     "metadata": {},
     "output_type": "display_data"
    }
   ],
   "source": [
    "#plotting histogram of ratings \n",
    "plt.hist(df.Ratings,rwidth = 0.7)\n",
    "plt.title(\"Ratings Frequency Histogram\")\n",
    "plt.figure(figsize = (7,15))\n",
    "plt.show()"
   ]
  },
  {
   "cell_type": "code",
   "execution_count": 68,
   "metadata": {},
   "outputs": [
    {
     "data": {
      "image/png": "[encoded data removed]",
      "text/plain": [
       "<Figure size 432x288 with 1 Axes>"
      ]
     },
     "metadata": {
      "needs_background": "light"
     },
     "output_type": "display_data"
    },
    {
     "data": {
      "text/plain": [
       "<Figure size 576x1080 with 0 Axes>"
      ]
     },
     "metadata": {},
     "output_type": "display_data"
    }
   ],
   "source": [
    "#using the boxplot to plot ratings and price\n",
    "sns.boxplot(x= df['Ratings'],y =df['Price'])\n",
    "plt.figure(figsize = (8,15))\n",
    "plt.show()"
   ]
  },
  {
   "cell_type": "code",
   "execution_count": null,
   "metadata": {},
   "outputs": [],
   "source": []
  }
 ],
 "metadata": {
  "interpreter": {
   "hash": "a2d571c1fd995a764dd66b4638fdf44303b0fae6c5f32d6ec3b392a9c3c427e3"
  },
  "kernelspec": {
   "display_name": "Python 3.8.3 32-bit",
   "language": "python",
   "name": "python3"
  },
  "language_info": {
   "codemirror_mode": {
    "name": "ipython",
    "version": 3
   },
   "file_extension": ".py",
   "mimetype": "text/x-python",
   "name": "python",
   "nbconvert_exporter": "python",
   "pygments_lexer": "ipython3",
   "version": "3.8.3"
  },
  "orig_nbformat": 4
 },
 "nbformat": 4,
 "nbformat_minor": 2
}
