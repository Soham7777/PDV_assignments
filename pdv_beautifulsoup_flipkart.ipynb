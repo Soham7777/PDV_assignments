{
 "cells": [
  {
   "cell_type": "markdown",
   "metadata": {},
   "source": [
    "\n",
    "    \n",
    "##### Problem statement - identify a particular website and extract info using beautiful soup or scrapy and store information in a (csv/xml/json)file and use data preprocessing techniques using numpy and pandas , next use data wrangling techniques for missing values, outliers etc, apply visualisation techniques and plot graph for the dataset\n",
    "\n",
    "\n"
   ]
  },
  {
   "cell_type": "markdown",
   "metadata": {},
   "source": [
    "### Scraping Laptop Data from Flipkart Website using Beautiful Soup"
   ]
  },
  {
   "cell_type": "code",
   "execution_count": 36,
   "metadata": {},
   "outputs": [],
   "source": [
    "# importing libraries\n",
    "from bs4 import BeautifulSoup\n",
    "import requests\n",
    "from fake_useragent import UserAgent\n",
    "import pandas as pd\n",
    "import numpy as np"
   ]
  },
  {
   "cell_type": "code",
   "execution_count": 41,
   "metadata": {},
   "outputs": [],
   "source": [
    "# opening our output file in append mode\n",
    "File = open(\"flipkart.csv\", \"a\")"
   ]
  },
  {
   "cell_type": "code",
   "execution_count": 5,
   "metadata": {},
   "outputs": [],
   "source": [
    "# specifying user agent\n",
    "ua = UserAgent()\n",
    "header = {'user-agent':ua.chrome}"
   ]
  },
  {
   "cell_type": "code",
   "execution_count": null,
   "metadata": {},
   "outputs": [],
   "source": [
    "URL = 'https://www.flipkart.com/search?q=laptops&otracker=search&otracker1=search&marketplace=FLIPKART&as-show=on&as=off'\n",
    "# Making the HTTP Request\n",
    "webpage = requests.get(URL, headers=header)\n",
    "\n",
    "# Creating the Soup Object containing all data\n",
    "soup = BeautifulSoup(webpage.content, \"lxml\")\n",
    "print(soup.prettify()) #this function will make the html tags easier to analyze"
   ]
  },
  {
   "cell_type": "code",
   "execution_count": null,
   "metadata": {},
   "outputs": [],
   "source": [
    "#getting the laptop names in the title \n",
    "\n",
    "for title in soup.find_all('div', class_ = \"_4rR01T\"):\n",
    "    title = title.string #extracting the text part of the title\n",
    "    print(title)\n",
    "    File.write(f\"{title},\")\n",
    "    "
   ]
  },
  {
   "cell_type": "code",
   "execution_count": 9,
   "metadata": {},
   "outputs": [],
   "source": [
    "#getting the prices for laptop\n",
    "for prices in soup.find_all('div',class_ =\"_30jeq3 _1_WHN1\"):\n",
    "    prices = prices.text.strip()[1:].replace(',','')\n",
    "    File.write((f\"{prices},\"))"
   ]
  },
  {
   "cell_type": "code",
   "execution_count": 11,
   "metadata": {},
   "outputs": [],
   "source": [
    "#ratings out of 5 for each laptop\n",
    "for ratings in soup.find_all('div',class_='_3LWZlK'):\n",
    "    ratings = float(ratings.text) #converting into float type before appending\n",
    "    #print(ratings) \n",
    "    File.write((f\"{ratings},\"))"
   ]
  },
  {
   "cell_type": "code",
   "execution_count": null,
   "metadata": {},
   "outputs": [],
   "source": [
    "# No of ratings\n",
    "for reviews in soup.find_all('span',class_=\"_2_R_DZ\"):\n",
    "    reviews = reviews.text\n",
    "    print(reviews)\n",
    "    #File.write((f\"{reviews},\"))"
   ]
  },
  {
   "cell_type": "code",
   "execution_count": 25,
   "metadata": {},
   "outputs": [
    {
     "name": "stdout",
     "output_type": "stream",
     "text": [
      "46\n"
     ]
    }
   ],
   "source": [
    "#Discount percentage\n",
    "print(soup.find('div',class_=\"_3Ay6Sb\").text.split()[0].strip()[0:2])"
   ]
  },
  {
   "cell_type": "markdown",
   "metadata": {},
   "source": [
    "#### Creating a Generalized Function to scrape: Title , Prices, Ratings,Discount"
   ]
  },
  {
   "cell_type": "code",
   "execution_count": 43,
   "metadata": {},
   "outputs": [],
   "source": [
    "# Creating an Function to take multiple URLS and extract data from each page\n",
    "def flipkart_scrape(URL):\n",
    "    # specifying user agent\n",
    "    ua = UserAgent()\n",
    "    header = {'user-agent':ua.chrome}\n",
    "    # Making the HTTP Request\n",
    "    webpage = requests.get(URL, headers=header)\n",
    "\n",
    "    # Creating the Soup Object containing all data\n",
    "    soup = BeautifulSoup(webpage.content, \"lxml\")\n",
    "    #print(soup.prettify()) #this function will make the html tags easier to analyze\n",
    "\n",
    "    #getting the laptop names in the title \n",
    "\n",
    "    for title in soup.find_all('div', class_ = \"_4rR01T\"):\n",
    "        title = title.string #extracting the text part of the title\n",
    "        File.write(f\"{title},\")\n",
    "\n",
    "    #getting the prices for laptop\n",
    "    for prices in soup.find_all('div',class_ =\"_30jeq3 _1_WHN1\"):\n",
    "        prices = prices.text.strip()[1:].replace(',','')\n",
    "        File.write((f\"{prices},\"))\n",
    "\n",
    "    #ratings out of 5 for each laptop\n",
    "    for ratings in soup.find_all('div',class_='_3LWZlK'):\n",
    "        ratings = float(ratings.text) #converting into float type before appending\n",
    "        #print(ratings) \n",
    "        File.write((f\"{ratings},\"))\n",
    "\n",
    "    #Discount percentage\n",
    "    for discount in soup.find_all('div',class_=\"_3Ay6Sb\"):\n",
    "        try:\n",
    "            discount = float(discount.text.split()[0].strip()[0:2])\n",
    "        except:\n",
    "            discount = np.nan    \n",
    "        File.write((f\"{discount},\"))\n",
    "\n",
    "\n",
    "\n"
   ]
  },
  {
   "cell_type": "markdown",
   "metadata": {},
   "source": [
    "Collecting URLS to pass onto function"
   ]
  },
  {
   "cell_type": "code",
   "execution_count": 26,
   "metadata": {},
   "outputs": [],
   "source": [
    "URL1 = 'https://www.flipkart.com/search?q=laptops&otracker=search&otracker1=search&marketplace=FLIPKART&as-show=on&as=off'\n",
    "URL2 = 'https://www.flipkart.com/search?q=laptops&otracker=search&otracker1=search&marketplace=FLIPKART&as-show=on&as=off&page=2'\n",
    "URL3 = 'https://www.flipkart.com/search?q=laptops&otracker=search&otracker1=search&marketplace=FLIPKART&as-show=on&as=off&page=3'"
   ]
  },
  {
   "cell_type": "markdown",
   "metadata": {},
   "source": [
    "Calling the function with the collected URLS"
   ]
  },
  {
   "cell_type": "code",
   "execution_count": 44,
   "metadata": {},
   "outputs": [],
   "source": [
    "#URL 1\n",
    "flipkart_scrape(URL1)"
   ]
  },
  {
   "cell_type": "code",
   "execution_count": 45,
   "metadata": {},
   "outputs": [],
   "source": [
    "#URL2\n",
    "flipkart_scrape(URL2)"
   ]
  },
  {
   "cell_type": "code",
   "execution_count": 46,
   "metadata": {},
   "outputs": [],
   "source": [
    "#URL3\n",
    "flipkart_scrape(URL3)"
   ]
  },
  {
   "cell_type": "code",
   "execution_count": 47,
   "metadata": {},
   "outputs": [],
   "source": [
    "#Closing the csv file\n",
    "File.close()"
   ]
  },
  {
   "cell_type": "code",
   "execution_count": 48,
   "metadata": {},
   "outputs": [
    {
     "data": {
      "text/html": [
       "<div>\n",
       "<style scoped>\n",
       "    .dataframe tbody tr th:only-of-type {\n",
       "        vertical-align: middle;\n",
       "    }\n",
       "\n",
       "    .dataframe tbody tr th {\n",
       "        vertical-align: top;\n",
       "    }\n",
       "\n",
       "    .dataframe thead th {\n",
       "        text-align: right;\n",
       "    }\n",
       "</style>\n",
       "<table border=\"1\" class=\"dataframe\">\n",
       "  <thead>\n",
       "    <tr style=\"text-align: right;\">\n",
       "      <th></th>\n",
       "      <th>Title</th>\n",
       "      <th>price</th>\n",
       "      <th>ratings</th>\n",
       "      <th>discount</th>\n",
       "    </tr>\n",
       "  </thead>\n",
       "  <tbody>\n",
       "    <tr>\n",
       "      <th>0</th>\n",
       "      <td>HP Pavilion Ryzen 5 Hexa Core - (16 GB/512 GB ...</td>\n",
       "      <td>59999.0</td>\n",
       "      <td>4.2</td>\n",
       "      <td>19.0</td>\n",
       "    </tr>\n",
       "    <tr>\n",
       "      <th>1</th>\n",
       "      <td>ASUS VivoBook 15 (2021) Core i3 10th Gen - (8 ...</td>\n",
       "      <td>39990.0</td>\n",
       "      <td>4.3</td>\n",
       "      <td>21.0</td>\n",
       "    </tr>\n",
       "    <tr>\n",
       "      <th>2</th>\n",
       "      <td>DELL Inspiron Core i3 11th Gen - (8 GB/1 TB HD...</td>\n",
       "      <td>44990.0</td>\n",
       "      <td>4.7</td>\n",
       "      <td>21.0</td>\n",
       "    </tr>\n",
       "    <tr>\n",
       "      <th>3</th>\n",
       "      <td>Lenovo IdeaPad 3 Core i3 11th Gen - (8 GB/256 ...</td>\n",
       "      <td>39490.0</td>\n",
       "      <td>4.2</td>\n",
       "      <td>35.0</td>\n",
       "    </tr>\n",
       "    <tr>\n",
       "      <th>4</th>\n",
       "      <td>acer Aspire 7 Core i5 10th Gen - (8 GB/512 GB ...</td>\n",
       "      <td>52990.0</td>\n",
       "      <td>4.4</td>\n",
       "      <td>41.0</td>\n",
       "    </tr>\n",
       "  </tbody>\n",
       "</table>\n",
       "</div>"
      ],
      "text/plain": [
       "                                               Title    price  ratings  \\\n",
       "0  HP Pavilion Ryzen 5 Hexa Core - (16 GB/512 GB ...  59999.0      4.2   \n",
       "1  ASUS VivoBook 15 (2021) Core i3 10th Gen - (8 ...  39990.0      4.3   \n",
       "2  DELL Inspiron Core i3 11th Gen - (8 GB/1 TB HD...  44990.0      4.7   \n",
       "3  Lenovo IdeaPad 3 Core i3 11th Gen - (8 GB/256 ...  39490.0      4.2   \n",
       "4  acer Aspire 7 Core i5 10th Gen - (8 GB/512 GB ...  52990.0      4.4   \n",
       "\n",
       "   discount  \n",
       "0      19.0  \n",
       "1      21.0  \n",
       "2      21.0  \n",
       "3      35.0  \n",
       "4      41.0  "
      ]
     },
     "execution_count": 48,
     "metadata": {},
     "output_type": "execute_result"
    }
   ],
   "source": [
    "#Reading the file into pandas dataframe to perform visualizations\n",
    "df = pd.read_csv('flipkart.csv')\n",
    "df.head()"
   ]
  },
  {
   "cell_type": "markdown",
   "metadata": {},
   "source": [
    "#### Data processing "
   ]
  },
  {
   "cell_type": "code",
   "execution_count": 62,
   "metadata": {},
   "outputs": [
    {
     "name": "stdout",
     "output_type": "stream",
     "text": [
      "True\n"
     ]
    },
    {
     "data": {
      "text/plain": [
       "Title       0\n",
       "price       2\n",
       "ratings     2\n",
       "discount    2\n",
       "dtype: int64"
      ]
     },
     "execution_count": 62,
     "metadata": {},
     "output_type": "execute_result"
    }
   ],
   "source": [
    "#checking for any null values if any\n",
    "print(df.isnull().values.any())\n",
    "\n",
    "#checking the number of nan values in each of the columns\n",
    "df.isnull().sum()\n",
    "\n"
   ]
  },
  {
   "cell_type": "code",
   "execution_count": 67,
   "metadata": {},
   "outputs": [],
   "source": [
    "#Using the drop na method to drop the na values\n",
    "df = df.dropna(axis=0,how='any')"
   ]
  },
  {
   "cell_type": "code",
   "execution_count": 68,
   "metadata": {},
   "outputs": [
    {
     "data": {
      "text/plain": [
       "Title       0\n",
       "price       0\n",
       "ratings     0\n",
       "discount    0\n",
       "dtype: int64"
      ]
     },
     "execution_count": 68,
     "metadata": {},
     "output_type": "execute_result"
    }
   ],
   "source": [
    "#checking for na values again\n",
    "df.isnull().sum()"
   ]
  },
  {
   "cell_type": "code",
   "execution_count": 72,
   "metadata": {},
   "outputs": [],
   "source": [
    "#converting each column in dataframe to numeric values\n",
    "df['price'] = pd.to_numeric(df['price'])\n",
    "df['ratings'] = pd.to_numeric(df['ratings'])\n",
    "df['discount'] = pd.to_numeric(df['discount'])\n"
   ]
  },
  {
   "cell_type": "code",
   "execution_count": 74,
   "metadata": {},
   "outputs": [
    {
     "data": {
      "text/html": [
       "<div>\n",
       "<style scoped>\n",
       "    .dataframe tbody tr th:only-of-type {\n",
       "        vertical-align: middle;\n",
       "    }\n",
       "\n",
       "    .dataframe tbody tr th {\n",
       "        vertical-align: top;\n",
       "    }\n",
       "\n",
       "    .dataframe thead th {\n",
       "        text-align: right;\n",
       "    }\n",
       "</style>\n",
       "<table border=\"1\" class=\"dataframe\">\n",
       "  <thead>\n",
       "    <tr style=\"text-align: right;\">\n",
       "      <th></th>\n",
       "      <th>Title</th>\n",
       "      <th>price</th>\n",
       "      <th>ratings</th>\n",
       "      <th>discount</th>\n",
       "    </tr>\n",
       "  </thead>\n",
       "  <tbody>\n",
       "    <tr>\n",
       "      <th>0</th>\n",
       "      <td>HP Pavilion Ryzen 5 Hexa Core - (16 GB/512 GB ...</td>\n",
       "      <td>59999.0</td>\n",
       "      <td>4.2</td>\n",
       "      <td>19.0</td>\n",
       "    </tr>\n",
       "    <tr>\n",
       "      <th>1</th>\n",
       "      <td>ASUS VivoBook 15 (2021) Core i3 10th Gen - (8 ...</td>\n",
       "      <td>39990.0</td>\n",
       "      <td>4.3</td>\n",
       "      <td>21.0</td>\n",
       "    </tr>\n",
       "    <tr>\n",
       "      <th>2</th>\n",
       "      <td>DELL Inspiron Core i3 11th Gen - (8 GB/1 TB HD...</td>\n",
       "      <td>44990.0</td>\n",
       "      <td>4.7</td>\n",
       "      <td>21.0</td>\n",
       "    </tr>\n",
       "    <tr>\n",
       "      <th>3</th>\n",
       "      <td>Lenovo IdeaPad 3 Core i3 11th Gen - (8 GB/256 ...</td>\n",
       "      <td>39490.0</td>\n",
       "      <td>4.2</td>\n",
       "      <td>35.0</td>\n",
       "    </tr>\n",
       "    <tr>\n",
       "      <th>4</th>\n",
       "      <td>acer Aspire 7 Core i5 10th Gen - (8 GB/512 GB ...</td>\n",
       "      <td>52990.0</td>\n",
       "      <td>4.4</td>\n",
       "      <td>41.0</td>\n",
       "    </tr>\n",
       "    <tr>\n",
       "      <th>...</th>\n",
       "      <td>...</td>\n",
       "      <td>...</td>\n",
       "      <td>...</td>\n",
       "      <td>...</td>\n",
       "    </tr>\n",
       "    <tr>\n",
       "      <th>67</th>\n",
       "      <td>MSI Bravo Ryzen 5 Hexa Core 5600H - (8 GB/512 ...</td>\n",
       "      <td>59990.0</td>\n",
       "      <td>4.3</td>\n",
       "      <td>17.0</td>\n",
       "    </tr>\n",
       "    <tr>\n",
       "      <th>68</th>\n",
       "      <td>MSI GF63 Thin Core i7 10th Gen - (16 GB/512 GB...</td>\n",
       "      <td>78190.0</td>\n",
       "      <td>4.0</td>\n",
       "      <td>31.0</td>\n",
       "    </tr>\n",
       "    <tr>\n",
       "      <th>69</th>\n",
       "      <td>Lenovo IdeaPad 3 Core i3 10th Gen - (8 GB/256 ...</td>\n",
       "      <td>39990.0</td>\n",
       "      <td>4.7</td>\n",
       "      <td>28.0</td>\n",
       "    </tr>\n",
       "    <tr>\n",
       "      <th>70</th>\n",
       "      <td>HP Pavilion Core i5 11th Gen - (16 GB/512 GB S...</td>\n",
       "      <td>67990.0</td>\n",
       "      <td>4.0</td>\n",
       "      <td>18.0</td>\n",
       "    </tr>\n",
       "    <tr>\n",
       "      <th>71</th>\n",
       "      <td>APPLE MacBook Pro M1 - (8 GB/256 GB SSD/Mac OS...</td>\n",
       "      <td>112990.0</td>\n",
       "      <td>5.0</td>\n",
       "      <td>31.0</td>\n",
       "    </tr>\n",
       "  </tbody>\n",
       "</table>\n",
       "<p>66 rows × 4 columns</p>\n",
       "</div>"
      ],
      "text/plain": [
       "                                                Title     price  ratings  \\\n",
       "0   HP Pavilion Ryzen 5 Hexa Core - (16 GB/512 GB ...   59999.0      4.2   \n",
       "1   ASUS VivoBook 15 (2021) Core i3 10th Gen - (8 ...   39990.0      4.3   \n",
       "2   DELL Inspiron Core i3 11th Gen - (8 GB/1 TB HD...   44990.0      4.7   \n",
       "3   Lenovo IdeaPad 3 Core i3 11th Gen - (8 GB/256 ...   39490.0      4.2   \n",
       "4   acer Aspire 7 Core i5 10th Gen - (8 GB/512 GB ...   52990.0      4.4   \n",
       "..                                                ...       ...      ...   \n",
       "67  MSI Bravo Ryzen 5 Hexa Core 5600H - (8 GB/512 ...   59990.0      4.3   \n",
       "68  MSI GF63 Thin Core i7 10th Gen - (16 GB/512 GB...   78190.0      4.0   \n",
       "69  Lenovo IdeaPad 3 Core i3 10th Gen - (8 GB/256 ...   39990.0      4.7   \n",
       "70  HP Pavilion Core i5 11th Gen - (16 GB/512 GB S...   67990.0      4.0   \n",
       "71  APPLE MacBook Pro M1 - (8 GB/256 GB SSD/Mac OS...  112990.0      5.0   \n",
       "\n",
       "    discount  \n",
       "0       19.0  \n",
       "1       21.0  \n",
       "2       21.0  \n",
       "3       35.0  \n",
       "4       41.0  \n",
       "..       ...  \n",
       "67      17.0  \n",
       "68      31.0  \n",
       "69      28.0  \n",
       "70      18.0  \n",
       "71      31.0  \n",
       "\n",
       "[66 rows x 4 columns]"
      ]
     },
     "execution_count": 74,
     "metadata": {},
     "output_type": "execute_result"
    }
   ],
   "source": [
    "df"
   ]
  },
  {
   "cell_type": "markdown",
   "metadata": {},
   "source": [
    "Visualizing the data"
   ]
  },
  {
   "cell_type": "code",
   "execution_count": 84,
   "metadata": {},
   "outputs": [
    {
     "data": {
      "image/png": "[encoded data removed]",
      "text/plain": [
       "<Figure size 432x288 with 1 Axes>"
      ]
     },
     "metadata": {
      "needs_background": "light"
     },
     "output_type": "display_data"
    },
    {
     "name": "stdout",
     "output_type": "stream",
     "text": [
      "We can visualize from the following graph that prices range around \n",
      " 40 - 60 k has more laptops with good ratings \n",
      " and it makes our decision easy to choose budget and laptop\n"
     ]
    }
   ],
   "source": [
    "#importing the lib\n",
    "import matplotlib.pyplot as plt\n",
    "\n",
    "#plotting the data\n",
    "\n",
    "plt.scatter(df['price'],df['ratings'],c='blue')\n",
    "plt.xlabel('Prices')\n",
    "plt.ylabel('Ratings')\n",
    "plt.show()\n",
    "print(\"We can visualize from the following graph that prices range around \\n 40 - 60 k has more laptops with good ratings \\n and it makes our decision easy to choose budget and laptop\") "
   ]
  },
  {
   "cell_type": "code",
   "execution_count": null,
   "metadata": {},
   "outputs": [],
   "source": []
  }
 ],
 "metadata": {
  "interpreter": {
   "hash": "a2d571c1fd995a764dd66b4638fdf44303b0fae6c5f32d6ec3b392a9c3c427e3"
  },
  "kernelspec": {
   "display_name": "Python 3.8.3 32-bit",
   "language": "python",
   "name": "python3"
  },
  "language_info": {
   "codemirror_mode": {
    "name": "ipython",
    "version": 3
   },
   "file_extension": ".py",
   "mimetype": "text/x-python",
   "name": "python",
   "nbconvert_exporter": "python",
   "pygments_lexer": "ipython3",
   "version": "3.8.3"
  },
  "orig_nbformat": 4
 },
 "nbformat": 4,
 "nbformat_minor": 2
}
